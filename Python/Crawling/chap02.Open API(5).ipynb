{
 "cells": [
  {
   "cell_type": "markdown",
   "metadata": {},
   "source": [
    "#### 공공데이터 포털 OPEN API 사용하기\n",
    "1. 공공데이터 포털 회원가입/로그인(https://www.data.go.kr/)\n",
    "2. API 사용 요청 / 키 발급\n",
    "3. API 문서(specification) 확인\n",
    "4. API 테스트 및 개발"
   ]
  },
  {
   "cell_type": "code",
   "execution_count": 10,
   "metadata": {
    "ExecuteTime": {
     "end_time": "2020-11-18T07:20:03.252671Z",
     "start_time": "2020-11-18T07:20:03.160666Z"
    }
   },
   "outputs": [],
   "source": [
    "import requests"
   ]
  },
  {
   "cell_type": "markdown",
   "metadata": {},
   "source": [
    "#### Endpoint 확인하기\n",
    " - API가 서비스되는 서버의 IP 혹은 domain 주소"
   ]
  },
  {
   "cell_type": "code",
   "execution_count": 11,
   "metadata": {
    "ExecuteTime": {
     "end_time": "2020-11-18T07:20:05.671809Z",
     "start_time": "2020-11-18T07:20:05.661809Z"
    }
   },
   "outputs": [
    {
     "name": "stdout",
     "output_type": "stream",
     "text": [
      "http://api.visitkorea.or.kr/openapi/service/rest/KorService/areaCode?ServiceKey=sA78yY%2FijK3uskzaHrmoktsxRUj05qXiFwAnVayPUdTBcDb2CoejuL1GSJp0pp%2FwItgI2pPV2VGKpxzSDX8%2BYA%3D%3D&numOfRows=10&pageNo=1&MobileOS=ETC&MobileApp=TestApp&_type=json\n"
     ]
    }
   ],
   "source": [
    "endpoint = 'http://api.visitkorea.or.kr/openapi/service/rest/KorService/areaCode?ServiceKey={}&numOfRows=10&pageNo=1&MobileOS=ETC&MobileApp=TestApp&_type=json'.format(servicekey)\n",
    "print(endpoint)\n",
    "# xml호출, 최근엔 '&_type=json'를 붙여 json 호출을 많이함."
   ]
  },
  {
   "cell_type": "markdown",
   "metadata": {},
   "source": [
    "#### key 값 확인하기\n",
    " - 서비스 호출 트래킹할 목적이나 악의적인 사용을 금지할 목적으로 주로 사용\n",
    " - 새로 발급받은 키는 1시간 이후 사용 가능"
   ]
  },
  {
   "cell_type": "code",
   "execution_count": 2,
   "metadata": {
    "ExecuteTime": {
     "end_time": "2020-11-18T07:12:45.474631Z",
     "start_time": "2020-11-18T07:12:45.468631Z"
    }
   },
   "outputs": [],
   "source": [
    "servicekey = ''"
   ]
  },
  {
   "cell_type": "markdown",
   "metadata": {},
   "source": [
    "#### Parameter 확인하기\n",
    " - API 호출에 필요한 parameter 값 확인 및 구성"
   ]
  },
  {
   "cell_type": "markdown",
   "metadata": {},
   "source": [
    "#### 요청 및 Response 확인\n",
    " - requests 모듈을 활용하여 API 호출\n",
    " - response 확인하여 원하는 정보 추출\n",
    " - json 데이터의 경우, python dictionary로 변경하여 사용가능"
   ]
  },
  {
   "cell_type": "code",
   "execution_count": 19,
   "metadata": {
    "ExecuteTime": {
     "end_time": "2020-11-18T07:23:44.453323Z",
     "start_time": "2020-11-18T07:23:44.381319Z"
    }
   },
   "outputs": [
    {
     "name": "stdout",
     "output_type": "stream",
     "text": [
      "200\n",
      "{\"response\":{\"header\":{\"resultCode\":\"0000\",\"resultMsg\":\"OK\"},\"body\":{\"items\":{\"item\":[{\"code\":1,\"name\":\"서울\",\"rnum\":1},{\"code\":2,\"name\":\"인천\",\"rnum\":2},{\"code\":3,\"name\":\"대전\",\"rnum\":3},{\"code\":4,\"name\":\"대구\",\"rnum\":4},{\"code\":5,\"name\":\"광주\",\"rnum\":5},{\"code\":6,\"name\":\"부산\",\"rnum\":6},{\"code\":7,\"name\":\"울산\",\"rnum\":7},{\"code\":8,\"name\":\"세종특별자치시\",\"rnum\":8},{\"code\":31,\"name\":\"경기도\",\"rnum\":9},{\"code\":32,\"name\":\"강원도\",\"rnum\":10}]},\"numOfRows\":10,\"pageNo\":1,\"totalCount\":17}}}\n",
      "-------------------------\n",
      "{'code': 1, 'name': '서울', 'rnum': 1}\n"
     ]
    }
   ],
   "source": [
    "endpoint = 'http://api.visitkorea.or.kr/openapi/service/rest/KorService/areaCode?ServiceKey={}&numOfRows=10&pageNo={}&MobileOS=ETC&MobileApp=TestApp&_type=json'.format(servicekey,1)\n",
    "resp = requests.get(endpoint)\n",
    "\n",
    "print(resp.status_code)\n",
    "print(resp.text)\n",
    "print('-------------------------')\n",
    "\n",
    "data = resp.json()\n",
    "# type(resp.json()) # dict\n",
    "print(data['response']['body']['items']['item'][0])"
   ]
  }
 ],
 "metadata": {
  "kernelspec": {
   "display_name": "Python 3",
   "language": "python",
   "name": "python3"
  },
  "language_info": {
   "codemirror_mode": {
    "name": "ipython",
    "version": 3
   },
   "file_extension": ".py",
   "mimetype": "text/x-python",
   "name": "python",
   "nbconvert_exporter": "python",
   "pygments_lexer": "ipython3",
   "version": "3.7.7"
  },
  "toc": {
   "base_numbering": 1,
   "nav_menu": {},
   "number_sections": true,
   "sideBar": true,
   "skip_h1_title": false,
   "title_cell": "Table of Contents",
   "title_sidebar": "Contents",
   "toc_cell": false,
   "toc_position": {},
   "toc_section_display": true,
   "toc_window_display": false
  }
 },
 "nbformat": 4,
 "nbformat_minor": 2
}
