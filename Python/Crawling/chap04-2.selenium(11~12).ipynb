{
 "cells": [
  {
   "cell_type": "code",
   "execution_count": 7,
   "metadata": {
    "ExecuteTime": {
     "end_time": "2020-12-03T05:14:57.142913Z",
     "start_time": "2020-12-03T05:14:57.131912Z"
    }
   },
   "outputs": [],
   "source": [
    "from selenium import webdriver\n",
    "from selenium.webdriver.common.keys import Keys\n",
    "from selenium.webdriver.support.ui import WebDriverWait\n",
    "from selenium.webdriver.support import expected_conditions as EC\n",
    "from selenium.webdriver.common.by import By\n",
    "\n",
    "from bs4 import BeautifulSoup\n",
    "import time"
   ]
  },
  {
   "cell_type": "markdown",
   "metadata": {},
   "source": [
    "#### selenium\n",
    " - 웹페이지 테스트 자동화용 모듈\n",
    " - 개발/테스트용 드라이버(웹브라우저)를 사용하여 실제 사용자가 사용하는 것처럼 동작\n",
    " - 실습전 확인사항\n",
    "   - selenium 모듈 설치\n",
    "   - [크롬 드라이버 다운로드](https://chromedriver.chromium.org/downloads)"
   ]
  },
  {
   "cell_type": "markdown",
   "metadata": {},
   "source": [
    "#### selenium 예제\n",
    " - python.org 로 이동하여 자동으로 검색해보기\n",
    "   1. python.org 사이트 오픈\n",
    "   2. input 필드를 검색하여 Key 이벤트 전달\n",
    " \n"
   ]
  },
  {
   "cell_type": "code",
   "execution_count": 14,
   "metadata": {
    "ExecuteTime": {
     "end_time": "2020-12-03T05:23:00.481558Z",
     "start_time": "2020-12-03T05:22:46.359750Z"
    }
   },
   "outputs": [],
   "source": [
    "chrome_driver = 'C:/Users/user/Downloads/chromedriver.exe'\n",
    "driver = webdriver.Chrome(chrome_driver)\n",
    "\n",
    "driver.get('https://www.python.org')\n",
    "#time.sleep(2)\n",
    "\n",
    "search = driver.find_element_by_id('id-search-field')\n",
    "\n",
    "search.clear()\n",
    "time.sleep(3)\n",
    "\n",
    "search.send_keys('lambda')\n",
    "time.sleep(3)\n",
    "\n",
    "search.send_keys(Keys.RETURN)\n",
    "time.sleep(3)\n",
    "\n",
    "driver.close()"
   ]
  },
  {
   "cell_type": "markdown",
   "metadata": {},
   "source": [
    "#### selenium을 이용한 다음뉴스 웹사이트 크롤링\n",
    " - driver 객체의 find_xxx_by 함수 활용"
   ]
  },
  {
   "cell_type": "code",
   "execution_count": 32,
   "metadata": {
    "ExecuteTime": {
     "end_time": "2020-12-03T05:41:05.466616Z",
     "start_time": "2020-12-03T05:41:00.134311Z"
    }
   },
   "outputs": [
    {
     "data": {
      "text/plain": [
       "'0'"
      ]
     },
     "execution_count": 32,
     "metadata": {},
     "output_type": "execute_result"
    }
   ],
   "source": [
    "chrome_driver = 'C:/Users/user/Downloads/chromedriver.exe'\n",
    "driver = webdriver.Chrome(chrome_driver)\n",
    "\n",
    "url = 'https://news.v.daum.net/v/20190728165812603'\n",
    "\n",
    "# 크롬드라이버로 해당 페이지 물리적 오픈\n",
    "driver.get(url)\n",
    "\n",
    "src = driver.page_source\n",
    "soup = BeautifulSoup(src)\n",
    "\n",
    "# 크롬드라이버 사용후, 종료\n",
    "driver.close()\n",
    "\n",
    "comment = soup.select_one('span.alex-count-area')\n",
    "comment.get_text()"
   ]
  },
  {
   "cell_type": "markdown",
   "metadata": {},
   "source": [
    "#### selenium을 활용하여 특정 element의 로딩 대기\n",
    " - WebDriverWait 객체를 이용하여 해당 element가 로딩 되는 것을 대기\n",
    " - 실제로 해당 기능을 활용하여 거의 모든 사이트의 크롤링이 가능\n",
    " - WebDriverWait(driver, 시간(초)).until(EC.presence_of_element_located((By.CSS_SELECTOR, 'CSS_RULE')))\n",
    " "
   ]
  },
  {
   "cell_type": "code",
   "execution_count": 38,
   "metadata": {
    "ExecuteTime": {
     "end_time": "2020-12-03T05:51:33.177519Z",
     "start_time": "2020-12-03T05:51:29.025281Z"
    }
   },
   "outputs": [
    {
     "data": {
      "text/plain": [
       "'21'"
      ]
     },
     "execution_count": 38,
     "metadata": {},
     "output_type": "execute_result"
    }
   ],
   "source": [
    "chrome_driver = 'C:/Users/user/Downloads/chromedriver.exe'\n",
    "driver = webdriver.Chrome(chrome_driver)\n",
    "\n",
    "url = 'https://news.naver.com/main/read.nhn?mode=LSD&mid=shm&sid1=105&oid=081&aid=0003018031'\n",
    "driver.get(url)\n",
    "\n",
    "# 해당 element가 로딩 될때까지 대기\n",
    "WebDriverWait(driver, 10).until(EC.presence_of_all_elements_located((By.CSS_SELECTOR, 'span.u_cbox_count')))\n",
    "\n",
    "src = driver.page_source\n",
    "soup = BeautifulSoup(src)\n",
    "\n",
    "driver.close()\n",
    "\n",
    "comment = soup.select_one('span.u_cbox_count')\n",
    "comment.get_text()"
   ]
  }
 ],
 "metadata": {
  "kernelspec": {
   "display_name": "Python 3",
   "language": "python",
   "name": "python3"
  },
  "language_info": {
   "codemirror_mode": {
    "name": "ipython",
    "version": 3
   },
   "file_extension": ".py",
   "mimetype": "text/x-python",
   "name": "python",
   "nbconvert_exporter": "python",
   "pygments_lexer": "ipython3",
   "version": "3.7.7"
  },
  "toc": {
   "base_numbering": 1,
   "nav_menu": {},
   "number_sections": true,
   "sideBar": true,
   "skip_h1_title": false,
   "title_cell": "Table of Contents",
   "title_sidebar": "Contents",
   "toc_cell": false,
   "toc_position": {},
   "toc_section_display": true,
   "toc_window_display": false
  }
 },
 "nbformat": 4,
 "nbformat_minor": 2
}
