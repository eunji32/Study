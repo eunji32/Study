{
 "cells": [
  {
   "cell_type": "code",
   "execution_count": 2,
   "metadata": {
    "ExecuteTime": {
     "end_time": "2021-01-06T05:27:29.911112Z",
     "start_time": "2021-01-06T05:27:28.937056Z"
    }
   },
   "outputs": [],
   "source": [
    "import numpy as np\n",
    "import pandas as pd"
   ]
  },
  {
   "cell_type": "markdown",
   "metadata": {},
   "source": [
    "#### **Series size, shape, unique, count, value_counts 함수**\n",
    " - size : 개수 반환\n",
    " - shape : 튜플형태로 shape반환\n",
    " - unique: 유일한 값만 ndarray로 반환\n",
    " - count : NaN을 제외한 개수를 반환\n",
    " - mean: NaN을 제외한 평균 \n",
    " - value_counts: NaN을 제외하고 각 값들의 빈도를 반환 "
   ]
  },
  {
   "cell_type": "code",
   "execution_count": 3,
   "metadata": {
    "ExecuteTime": {
     "end_time": "2021-01-06T05:27:30.780161Z",
     "start_time": "2021-01-06T05:27:30.756160Z"
    }
   },
   "outputs": [
    {
     "data": {
      "text/plain": [
       "0     1.0\n",
       "1     1.0\n",
       "2     2.0\n",
       "3     1.0\n",
       "4     1.0\n",
       "5     2.0\n",
       "6     2.0\n",
       "7     1.0\n",
       "8     1.0\n",
       "9     3.0\n",
       "10    3.0\n",
       "11    4.0\n",
       "12    5.0\n",
       "13    5.0\n",
       "14    6.0\n",
       "15    NaN\n",
       "dtype: float64"
      ]
     },
     "execution_count": 3,
     "metadata": {},
     "output_type": "execute_result"
    }
   ],
   "source": [
    "s = pd.Series([1,1,2,1,1,2,2,1,1,3,3,4,5,5,6,np.NaN])\n",
    "s"
   ]
  },
  {
   "cell_type": "code",
   "execution_count": 5,
   "metadata": {
    "ExecuteTime": {
     "end_time": "2021-01-06T05:28:39.061067Z",
     "start_time": "2021-01-06T05:28:39.054066Z"
    }
   },
   "outputs": [
    {
     "data": {
      "text/plain": [
       "16"
      ]
     },
     "execution_count": 5,
     "metadata": {},
     "output_type": "execute_result"
    }
   ],
   "source": [
    "len(s)"
   ]
  },
  {
   "cell_type": "code",
   "execution_count": 6,
   "metadata": {
    "ExecuteTime": {
     "end_time": "2021-01-06T05:28:47.439546Z",
     "start_time": "2021-01-06T05:28:47.435546Z"
    }
   },
   "outputs": [
    {
     "data": {
      "text/plain": [
       "16"
      ]
     },
     "execution_count": 6,
     "metadata": {},
     "output_type": "execute_result"
    }
   ],
   "source": [
    "s.size"
   ]
  },
  {
   "cell_type": "code",
   "execution_count": 7,
   "metadata": {
    "ExecuteTime": {
     "end_time": "2021-01-06T05:28:56.838084Z",
     "start_time": "2021-01-06T05:28:56.831083Z"
    }
   },
   "outputs": [
    {
     "data": {
      "text/plain": [
       "(16,)"
      ]
     },
     "execution_count": 7,
     "metadata": {},
     "output_type": "execute_result"
    }
   ],
   "source": [
    "s.shape"
   ]
  },
  {
   "cell_type": "code",
   "execution_count": 11,
   "metadata": {
    "ExecuteTime": {
     "end_time": "2021-01-06T05:29:32.257109Z",
     "start_time": "2021-01-06T05:29:32.251109Z"
    }
   },
   "outputs": [
    {
     "data": {
      "text/plain": [
       "array([ 1.,  2.,  3.,  4.,  5.,  6., nan])"
      ]
     },
     "execution_count": 11,
     "metadata": {},
     "output_type": "execute_result"
    }
   ],
   "source": [
    "s.unique()"
   ]
  },
  {
   "cell_type": "code",
   "execution_count": 12,
   "metadata": {
    "ExecuteTime": {
     "end_time": "2021-01-06T05:29:53.194307Z",
     "start_time": "2021-01-06T05:29:53.187307Z"
    }
   },
   "outputs": [
    {
     "data": {
      "text/plain": [
       "15"
      ]
     },
     "execution_count": 12,
     "metadata": {},
     "output_type": "execute_result"
    }
   ],
   "source": [
    "s.count() # 실제있는 값. nan제외"
   ]
  },
  {
   "cell_type": "code",
   "execution_count": 14,
   "metadata": {
    "ExecuteTime": {
     "end_time": "2021-01-06T05:31:00.681167Z",
     "start_time": "2021-01-06T05:31:00.659166Z"
    }
   },
   "outputs": [
    {
     "name": "stdout",
     "output_type": "stream",
     "text": [
      "nan\n",
      "2.0\n"
     ]
    }
   ],
   "source": [
    "a = np.array([2,2,2,2,np.NaN])\n",
    "print(a. mean())\n",
    "\n",
    "b = pd.Series(a)\n",
    "print(b.mean())"
   ]
  },
  {
   "cell_type": "code",
   "execution_count": 16,
   "metadata": {
    "ExecuteTime": {
     "end_time": "2021-01-06T05:31:20.975328Z",
     "start_time": "2021-01-06T05:31:20.971328Z"
    }
   },
   "outputs": [
    {
     "data": {
      "text/plain": [
       "2.533333333333333"
      ]
     },
     "execution_count": 16,
     "metadata": {},
     "output_type": "execute_result"
    }
   ],
   "source": [
    "s.mean() # nan 무시하고 계산"
   ]
  },
  {
   "cell_type": "code",
   "execution_count": 18,
   "metadata": {
    "ExecuteTime": {
     "end_time": "2021-01-06T05:32:01.392639Z",
     "start_time": "2021-01-06T05:32:01.378639Z"
    }
   },
   "outputs": [
    {
     "data": {
      "text/plain": [
       "1.0    6\n",
       "2.0    3\n",
       "5.0    2\n",
       "3.0    2\n",
       "6.0    1\n",
       "4.0    1\n",
       "dtype: int64"
      ]
     },
     "execution_count": 18,
     "metadata": {},
     "output_type": "execute_result"
    }
   ],
   "source": [
    "s.value_counts() # 데이터 빈도"
   ]
  },
  {
   "cell_type": "markdown",
   "metadata": {},
   "source": [
    "** index를 활용하여 멀티풀한 값에 접근"
   ]
  },
  {
   "cell_type": "code",
   "execution_count": 21,
   "metadata": {
    "ExecuteTime": {
     "end_time": "2021-01-06T05:33:32.155831Z",
     "start_time": "2021-01-06T05:33:32.150831Z"
    }
   },
   "outputs": [
    {
     "data": {
      "text/plain": [
       "5    2.0\n",
       "7    1.0\n",
       "8    1.0\n",
       "dtype: float64"
      ]
     },
     "execution_count": 21,
     "metadata": {},
     "output_type": "execute_result"
    }
   ],
   "source": [
    "# s[5,7,8] => 오류\n",
    "s[[5,7,8]] "
   ]
  },
  {
   "cell_type": "code",
   "execution_count": 24,
   "metadata": {
    "ExecuteTime": {
     "end_time": "2021-01-06T05:34:26.212923Z",
     "start_time": "2021-01-06T05:34:26.206922Z"
    }
   },
   "outputs": [
    {
     "data": {
      "text/plain": [
       "1.0    2\n",
       "2.0    1\n",
       "dtype: int64"
      ]
     },
     "execution_count": 24,
     "metadata": {},
     "output_type": "execute_result"
    }
   ],
   "source": [
    "s[[5,7,8]].value_counts()"
   ]
  },
  {
   "cell_type": "markdown",
   "metadata": {},
   "source": [
    "#### **head, tail 함수**\n",
    " - head : 상위 n개 출력 기본 5개\n",
    " - tail : 하위 n개 출력 기본 5개"
   ]
  },
  {
   "cell_type": "code",
   "execution_count": 25,
   "metadata": {
    "ExecuteTime": {
     "end_time": "2021-01-06T05:34:35.778470Z",
     "start_time": "2021-01-06T05:34:35.772469Z"
    }
   },
   "outputs": [
    {
     "data": {
      "text/plain": [
       "0    1.0\n",
       "1    1.0\n",
       "2    2.0\n",
       "3    1.0\n",
       "4    1.0\n",
       "dtype: float64"
      ]
     },
     "execution_count": 25,
     "metadata": {},
     "output_type": "execute_result"
    }
   ],
   "source": [
    "s.head() # 상위5개"
   ]
  },
  {
   "cell_type": "code",
   "execution_count": 26,
   "metadata": {
    "ExecuteTime": {
     "end_time": "2021-01-06T05:34:41.956823Z",
     "start_time": "2021-01-06T05:34:41.950823Z"
    }
   },
   "outputs": [
    {
     "data": {
      "text/plain": [
       "11    4.0\n",
       "12    5.0\n",
       "13    5.0\n",
       "14    6.0\n",
       "15    NaN\n",
       "dtype: float64"
      ]
     },
     "execution_count": 26,
     "metadata": {},
     "output_type": "execute_result"
    }
   ],
   "source": [
    "s.tail() # 하위5개"
   ]
  }
 ],
 "metadata": {
  "kernelspec": {
   "display_name": "Python 3",
   "language": "python",
   "name": "python3"
  },
  "language_info": {
   "codemirror_mode": {
    "name": "ipython",
    "version": 3
   },
   "file_extension": ".py",
   "mimetype": "text/x-python",
   "name": "python",
   "nbconvert_exporter": "python",
   "pygments_lexer": "ipython3",
   "version": "3.7.7"
  },
  "toc": {
   "base_numbering": 1,
   "nav_menu": {},
   "number_sections": true,
   "sideBar": true,
   "skip_h1_title": false,
   "title_cell": "Table of Contents",
   "title_sidebar": "Contents",
   "toc_cell": false,
   "toc_position": {},
   "toc_section_display": true,
   "toc_window_display": false
  }
 },
 "nbformat": 4,
 "nbformat_minor": 1
}
