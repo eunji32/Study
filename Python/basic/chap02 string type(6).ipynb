{
 "cells": [
  {
   "cell_type": "markdown",
   "metadata": {},
   "source": [
    "### **string (문자열)**\n",
    " - 복수개의 문자를 순서대로 나열 한 것\n",
    " - 문자열은 '(작은따옴표) 혹은 \"(큰따옴표) 사이에 문자를 넣어서 생성\n",
    " - 문자열 자체에 ', \"가 있는 경우에는 각각 그 반대의 기호로 생성"
   ]
  },
  {
   "cell_type": "markdown",
   "metadata": {},
   "source": [
    "#### **''' '''사용하여 표현 가능**\n",
    "  - 차이점 \n",
    "    - '', \"\" -> 한줄 문자열 표현\n",
    "    - ''' ''' -> 어려줄에 걸쳐 문자열 표현 가능"
   ]
  },
  {
   "cell_type": "code",
   "execution_count": 7,
   "metadata": {
    "ExecuteTime": {
     "end_time": "2020-10-06T08:30:38.973058Z",
     "start_time": "2020-10-06T08:30:38.969057Z"
    }
   },
   "outputs": [
    {
     "name": "stdout",
     "output_type": "stream",
     "text": [
      "Hello World\n",
      "Hello World\n",
      "\"Hello\" World\n",
      "'Hello' World\n"
     ]
    }
   ],
   "source": [
    "a = 'Hello World'\n",
    "b = \"Hello World\"\n",
    "c = '\"Hello\" World'\n",
    "d = \"'Hello' World\"\n",
    "\n",
    "print(a)\n",
    "print(b)\n",
    "print(c)\n",
    "print(d)"
   ]
  },
  {
   "cell_type": "code",
   "execution_count": 9,
   "metadata": {
    "ExecuteTime": {
     "end_time": "2020-10-06T08:32:12.875429Z",
     "start_time": "2020-10-06T08:32:12.866428Z"
    }
   },
   "outputs": [
    {
     "name": "stdout",
     "output_type": "stream",
     "text": [
      "Hello World. \n",
      "It's wonderful world \n",
      "-------------\n",
      "Hello \n",
      "\n",
      "World\n"
     ]
    }
   ],
   "source": [
    "c = '''Hello World. \n",
    "It's wonderful world '''\n",
    "\n",
    "d = \"\"\"Hello \n",
    "\n",
    "World\"\"\"\n",
    "\n",
    "print(c)\n",
    "print('-------------')\n",
    "print(d)"
   ]
  },
  {
   "cell_type": "markdown",
   "metadata": {},
   "source": [
    "#### escape string (이스케이프 문자)\n",
    "* 문자열내의 일부 문자의 의미를 달리하여 `특정한 효과`를 주는 것\n",
    "* `\\n` : new line `\\t` : tab 등\n",
    "\n"
   ]
  },
  {
   "cell_type": "code",
   "execution_count": 10,
   "metadata": {
    "ExecuteTime": {
     "end_time": "2020-10-06T08:32:38.220878Z",
     "start_time": "2020-10-06T08:32:38.216878Z"
    }
   },
   "outputs": [
    {
     "name": "stdout",
     "output_type": "stream",
     "text": [
      "Hello World\n",
      "\n",
      "\n",
      "Ha\thahaha\n"
     ]
    }
   ],
   "source": [
    "print('Hello World\\n\\n')\n",
    "print('Ha\\thahaha')"
   ]
  },
  {
   "cell_type": "markdown",
   "metadata": {},
   "source": [
    "#### **indexing & slicing string (문자열 인덱스 및 추출)**\n",
    "  - 문자열의 각 문자는 순서가 있음\n",
    "  - 이때 각 문자열의 순서를 **인덱스** 라고 함\n",
    "  - 첫번째 문자부터 마지막까지 차례대로의 순서를 가짐\n",
    "  - 첫번째 시작문자의 순서는 0으로 시작 (1이 아님)"
   ]
  },
  {
   "cell_type": "markdown",
   "metadata": {},
   "source": [
    "* **연습문제**\n",
    "문자열의 마지막 문자의 순서의 값은?"
   ]
  },
  {
   "cell_type": "code",
   "execution_count": 11,
   "metadata": {
    "ExecuteTime": {
     "end_time": "2020-10-06T08:41:24.942005Z",
     "start_time": "2020-10-06T08:41:24.938005Z"
    }
   },
   "outputs": [
    {
     "name": "stdout",
     "output_type": "stream",
     "text": [
      "H\n",
      "d\n"
     ]
    }
   ],
   "source": [
    "# 인덱스는 0부터 시작\n",
    "a = 'Hello World' # 길이 : 11 \n",
    "\n",
    "print(a[0])\n",
    "print(a[10])"
   ]
  },
  {
   "cell_type": "markdown",
   "metadata": {},
   "source": [
    "#### **-1 인덱스**\n",
    "  - 다른 언어와는 달리, python의 경우 음수 인덱스를 지원\n",
    "  - -1이 가장 마지막 인덱스를, -2가 마지막에서 두번째 인덱스를 의미..."
   ]
  },
  {
   "cell_type": "code",
   "execution_count": 12,
   "metadata": {
    "ExecuteTime": {
     "end_time": "2020-10-06T08:41:58.779940Z",
     "start_time": "2020-10-06T08:41:58.776940Z"
    }
   },
   "outputs": [
    {
     "name": "stdout",
     "output_type": "stream",
     "text": [
      "d\n",
      "H\n"
     ]
    }
   ],
   "source": [
    "print(a[-1])\n",
    "print(a[-11])"
   ]
  },
  {
   "cell_type": "markdown",
   "metadata": {},
   "source": [
    "#### **인덱스의 범위**\n",
    "  - 인덱스는 [0, 문자열의 길이) 의 범위만 유효\n",
    "  - 음수 인덱스를 사용할 경우, [-문자열의 길이, -1]\n",
    "  - 범위를 넘어갈 경우 에러 발생"
   ]
  },
  {
   "cell_type": "code",
   "execution_count": 19,
   "metadata": {},
   "outputs": [
    {
     "ename": "IndexError",
     "evalue": "string index out of range",
     "output_type": "error",
     "traceback": [
      "\u001b[0;31m---------------------------------------------------------------------------\u001b[0m",
      "\u001b[0;31mIndexError\u001b[0m                                Traceback (most recent call last)",
      "\u001b[0;32m<ipython-input-19-b2b0e248689c>\u001b[0m in \u001b[0;36m<module>\u001b[0;34m()\u001b[0m\n\u001b[1;32m      1\u001b[0m \u001b[0;31m# print(a[11])\u001b[0m\u001b[0;34m\u001b[0m\u001b[0;34m\u001b[0m\u001b[0m\n\u001b[0;32m----> 2\u001b[0;31m \u001b[0mprint\u001b[0m\u001b[0;34m(\u001b[0m\u001b[0ma\u001b[0m\u001b[0;34m[\u001b[0m\u001b[0;34m-\u001b[0m\u001b[0;36m12\u001b[0m\u001b[0;34m]\u001b[0m\u001b[0;34m)\u001b[0m\u001b[0;34m\u001b[0m\u001b[0m\n\u001b[0m",
      "\u001b[0;31mIndexError\u001b[0m: string index out of range"
     ]
    }
   ],
   "source": [
    "# print(a[11]) # 10 까지\n",
    "print(a[-12])  # -11 까지"
   ]
  },
  {
   "cell_type": "markdown",
   "metadata": {},
   "source": [
    "#### **문자열 slicing**\n",
    "  - 인덱스가 하나의 문자만을 추출한다면,\n",
    "  - slicing은 부분 문자열을 추출한다고 볼 수 있음\n",
    "  - [시작:끝]와 같이 명시하여 [시작, 끝)에 해당하는 부분 문자열을 추출\n",
    "  - 시작, 끝 인덱스가 생략이 되어 있다면, 0부터 혹은 끝까지로 간주"
   ]
  },
  {
   "cell_type": "code",
   "execution_count": 14,
   "metadata": {
    "ExecuteTime": {
     "end_time": "2020-10-06T08:45:00.559338Z",
     "start_time": "2020-10-06T08:45:00.553337Z"
    }
   },
   "outputs": [
    {
     "name": "stdout",
     "output_type": "stream",
     "text": [
      "Hello world\n",
      "H\n",
      "ello w\n",
      "------------------\n",
      "Hello\n",
      "lo world\n",
      "------------------\n",
      "Hello world\n"
     ]
    }
   ],
   "source": [
    "a = 'Hello world'\n",
    "\n",
    "print(a[0:11])\n",
    "print(a[0:1])\n",
    "print(a[1:7])\n",
    "print('------------------')\n",
    "\n",
    "print(a[:5])\n",
    "print(a[3:])\n",
    "\n",
    "print('------------------')\n",
    "print(a[:])"
   ]
  },
  {
   "cell_type": "markdown",
   "metadata": {},
   "source": [
    "#### **문자열 함수**\n",
    "  - 문자열은 여러가지 기능 제공을 위한 함수를 내장\n",
    "  - 함수란 특정 기능을 하는 코드로 언제든지 호출하여 해당 기능을 사용 가능하도록 구성한 코드\n",
    "  - 추후에 함수에 대해 자세히 다룰 예정"
   ]
  },
  {
   "cell_type": "markdown",
   "metadata": {},
   "source": [
    "* **upper** \n",
    " - 문자열 내 모든 문자 대문자로 변경"
   ]
  },
  {
   "cell_type": "code",
   "execution_count": 16,
   "metadata": {
    "ExecuteTime": {
     "end_time": "2020-10-06T08:47:53.774245Z",
     "start_time": "2020-10-06T08:47:53.761244Z"
    }
   },
   "outputs": [
    {
     "data": {
      "text/plain": [
       "'HELLO WORLD'"
      ]
     },
     "execution_count": 16,
     "metadata": {},
     "output_type": "execute_result"
    }
   ],
   "source": [
    "a = 'hello world'\n",
    "a.upper()"
   ]
  },
  {
   "cell_type": "markdown",
   "metadata": {},
   "source": [
    "* **lower** \n",
    " - 문자열 내 모든 문자 소문자로 변경"
   ]
  },
  {
   "cell_type": "code",
   "execution_count": 20,
   "metadata": {
    "ExecuteTime": {
     "end_time": "2020-10-06T08:48:57.182872Z",
     "start_time": "2020-10-06T08:48:57.177871Z"
    }
   },
   "outputs": [
    {
     "name": "stdout",
     "output_type": "stream",
     "text": [
      "HELLO WORLD\n"
     ]
    },
    {
     "data": {
      "text/plain": [
       "'hello world'"
      ]
     },
     "execution_count": 20,
     "metadata": {},
     "output_type": "execute_result"
    }
   ],
   "source": [
    "b = a.upper()\n",
    "\n",
    "print(b)\n",
    "b.lower()"
   ]
  },
  {
   "cell_type": "markdown",
   "metadata": {},
   "source": [
    "* **replace** \n",
    " - 문자열 내의 특정 문자를 치환"
   ]
  },
  {
   "cell_type": "code",
   "execution_count": 21,
   "metadata": {
    "ExecuteTime": {
     "end_time": "2020-10-06T08:50:36.003524Z",
     "start_time": "2020-10-06T08:50:35.996524Z"
    }
   },
   "outputs": [
    {
     "data": {
      "text/plain": [
       "'jello world'"
      ]
     },
     "execution_count": 21,
     "metadata": {},
     "output_type": "execute_result"
    }
   ],
   "source": [
    "a = 'hello world'\n",
    "a.replace('h', 'j') \n"
   ]
  },
  {
   "cell_type": "markdown",
   "metadata": {},
   "source": [
    "* **format**\n",
    " - 문자열내의 특정한 값을 변수로부터 초기화하여 동적으로 문자열을 생성 "
   ]
  },
  {
   "cell_type": "code",
   "execution_count": 22,
   "metadata": {
    "ExecuteTime": {
     "end_time": "2020-10-06T08:50:37.883631Z",
     "start_time": "2020-10-06T08:50:37.873631Z"
    }
   },
   "outputs": [
    {
     "name": "stdout",
     "output_type": "stream",
     "text": [
      "오늘 기온25.5도 이고, 비올 확률은 80.0% 입니다.\n"
     ]
    }
   ],
   "source": [
    "temperature = 25.5\n",
    "prob = 80.0\n",
    "\n",
    "a = '오늘 기온{}도 이고, 비올 확률은 {}% 입니다.'.format(temperature, prob)\n",
    "print(a)"
   ]
  },
  {
   "cell_type": "markdown",
   "metadata": {},
   "source": [
    "* **split**\n",
    " - 문자열을 특정한 문자 구분하여(delimiter) 문자열의 리스트로 치환"
   ]
  },
  {
   "cell_type": "code",
   "execution_count": 23,
   "metadata": {
    "ExecuteTime": {
     "end_time": "2020-10-06T08:58:51.152845Z",
     "start_time": "2020-10-06T08:58:51.147845Z"
    }
   },
   "outputs": [
    {
     "data": {
      "text/plain": [
       "['hello', 'world', 'what', 'a', 'nice', 'weather']"
      ]
     },
     "execution_count": 23,
     "metadata": {},
     "output_type": "execute_result"
    }
   ],
   "source": [
    "a = 'hello world what a nice weather'\n",
    "a.split(' ')"
   ]
  },
  {
   "cell_type": "code",
   "execution_count": 24,
   "metadata": {
    "ExecuteTime": {
     "end_time": "2020-10-06T08:59:05.122644Z",
     "start_time": "2020-10-06T08:59:05.116644Z"
    }
   },
   "outputs": [
    {
     "data": {
      "text/plain": [
       "['hello ', 'orld ', 'hat a nice ', 'eather']"
      ]
     },
     "execution_count": 24,
     "metadata": {},
     "output_type": "execute_result"
    }
   ],
   "source": [
    "a = 'hello world what a nice weather'\n",
    "a.split('w')"
   ]
  }
 ],
 "metadata": {
  "kernelspec": {
   "display_name": "Python 3",
   "language": "python",
   "name": "python3"
  },
  "language_info": {
   "codemirror_mode": {
    "name": "ipython",
    "version": 3
   },
   "file_extension": ".py",
   "mimetype": "text/x-python",
   "name": "python",
   "nbconvert_exporter": "python",
   "pygments_lexer": "ipython3",
   "version": "3.7.7"
  },
  "toc": {
   "base_numbering": 1,
   "nav_menu": {},
   "number_sections": true,
   "sideBar": true,
   "skip_h1_title": false,
   "title_cell": "Table of Contents",
   "title_sidebar": "Contents",
   "toc_cell": false,
   "toc_position": {},
   "toc_section_display": true,
   "toc_window_display": false
  }
 },
 "nbformat": 4,
 "nbformat_minor": 1
}
