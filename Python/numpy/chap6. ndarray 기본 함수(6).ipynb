{
 "cells": [
  {
   "cell_type": "code",
   "execution_count": 1,
   "metadata": {
    "ExecuteTime": {
     "end_time": "2020-12-21T05:27:55.550421Z",
     "start_time": "2020-12-21T05:27:55.412413Z"
    }
   },
   "outputs": [],
   "source": [
    "import numpy as np"
   ]
  },
  {
   "cell_type": "markdown",
   "metadata": {},
   "source": [
    "#### numpy documentation\n",
    " - [numpy 공식 문서 링크](https://www.numpy.org/devdocs/reference/)\n",
    " - numpy에서 제공되는 함수등에 대한 문서"
   ]
  },
  {
   "cell_type": "code",
   "execution_count": 2,
   "metadata": {
    "ExecuteTime": {
     "end_time": "2020-12-21T05:42:10.509322Z",
     "start_time": "2020-12-21T05:42:10.498321Z"
    }
   },
   "outputs": [
    {
     "name": "stdout",
     "output_type": "stream",
     "text": [
      "[[ 0  1  2  3  4]\n",
      " [ 5  6  7  8  9]\n",
      " [10 11 12 13 14]]\n",
      "[[0.95467817 0.0516019  0.53279679 0.71032398 0.22476847]\n",
      " [0.9738968  0.66464246 0.71245631 0.81837626 0.59695789]\n",
      " [0.90106902 0.98120074 0.93734103 0.81286876 0.6354823 ]]\n"
     ]
    }
   ],
   "source": [
    "x = np.arange(15).reshape(3,5)\n",
    "y = np.random.rand(15).reshape(3,5)\n",
    "print(x)\n",
    "print(y)"
   ]
  },
  {
   "cell_type": "markdown",
   "metadata": {},
   "source": [
    "#### 연산 함수\n",
    " - add, substract, multiply, divide"
   ]
  },
  {
   "cell_type": "code",
   "execution_count": 3,
   "metadata": {
    "ExecuteTime": {
     "end_time": "2020-12-21T05:42:32.012552Z",
     "start_time": "2020-12-21T05:42:32.002551Z"
    }
   },
   "outputs": [
    {
     "data": {
      "text/plain": [
       "array([[ 0.95467817,  1.0516019 ,  2.53279679,  3.71032398,  4.22476847],\n",
       "       [ 5.9738968 ,  6.66464246,  7.71245631,  8.81837626,  9.59695789],\n",
       "       [10.90106902, 11.98120074, 12.93734103, 13.81286876, 14.6354823 ]])"
      ]
     },
     "execution_count": 3,
     "metadata": {},
     "output_type": "execute_result"
    }
   ],
   "source": [
    "np.add(x,y) # 두 개의 shape이 같아야함. "
   ]
  },
  {
   "cell_type": "code",
   "execution_count": 5,
   "metadata": {
    "ExecuteTime": {
     "end_time": "2020-12-21T05:44:22.176853Z",
     "start_time": "2020-12-21T05:44:22.167853Z"
    }
   },
   "outputs": [
    {
     "data": {
      "text/plain": [
       "array([[ 0.95467817,  1.0516019 ,  2.53279679,  3.71032398,  4.22476847],\n",
       "       [ 5.9738968 ,  6.66464246,  7.71245631,  8.81837626,  9.59695789],\n",
       "       [10.90106902, 11.98120074, 12.93734103, 13.81286876, 14.6354823 ]])"
      ]
     },
     "execution_count": 5,
     "metadata": {},
     "output_type": "execute_result"
    }
   ],
   "source": [
    "x + y"
   ]
  },
  {
   "cell_type": "code",
   "execution_count": 4,
   "metadata": {
    "ExecuteTime": {
     "end_time": "2020-12-21T05:43:43.815659Z",
     "start_time": "2020-12-21T05:43:43.802658Z"
    }
   },
   "outputs": [
    {
     "data": {
      "text/plain": [
       "array([[-0.95467817,  0.9483981 ,  1.46720321,  2.28967602,  3.77523153],\n",
       "       [ 4.0261032 ,  5.33535754,  6.28754369,  7.18162374,  8.40304211],\n",
       "       [ 9.09893098, 10.01879926, 11.06265897, 12.18713124, 13.3645177 ]])"
      ]
     },
     "execution_count": 4,
     "metadata": {},
     "output_type": "execute_result"
    }
   ],
   "source": [
    "np.subtract(x,y)"
   ]
  },
  {
   "cell_type": "markdown",
   "metadata": {},
   "source": [
    "#### 통계 함수\n",
    " - 평균, 분산, 중앙, 최대, 최소값 등등 통계 관련된 함수가 내장"
   ]
  },
  {
   "cell_type": "code",
   "execution_count": 6,
   "metadata": {
    "ExecuteTime": {
     "end_time": "2020-12-21T05:44:57.596879Z",
     "start_time": "2020-12-21T05:44:57.589879Z"
    }
   },
   "outputs": [
    {
     "name": "stdout",
     "output_type": "stream",
     "text": [
      "[[0.95467817 0.0516019  0.53279679 0.71032398 0.22476847]\n",
      " [0.9738968  0.66464246 0.71245631 0.81837626 0.59695789]\n",
      " [0.90106902 0.98120074 0.93734103 0.81286876 0.6354823 ]]\n"
     ]
    }
   ],
   "source": [
    "print(y)"
   ]
  },
  {
   "cell_type": "code",
   "execution_count": 7,
   "metadata": {
    "ExecuteTime": {
     "end_time": "2020-12-21T05:45:05.215315Z",
     "start_time": "2020-12-21T05:45:05.206314Z"
    }
   },
   "outputs": [
    {
     "data": {
      "text/plain": [
       "0.7005640589154325"
      ]
     },
     "execution_count": 7,
     "metadata": {},
     "output_type": "execute_result"
    }
   ],
   "source": [
    "y.mean() # np.mean(y)"
   ]
  },
  {
   "cell_type": "code",
   "execution_count": 8,
   "metadata": {
    "ExecuteTime": {
     "end_time": "2020-12-21T05:45:37.728174Z",
     "start_time": "2020-12-21T05:45:37.722174Z"
    }
   },
   "outputs": [
    {
     "data": {
      "text/plain": [
       "0.9812007405010233"
      ]
     },
     "execution_count": 8,
     "metadata": {},
     "output_type": "execute_result"
    }
   ],
   "source": [
    "np.max(y)"
   ]
  },
  {
   "cell_type": "code",
   "execution_count": 9,
   "metadata": {
    "ExecuteTime": {
     "end_time": "2020-12-21T05:45:53.526078Z",
     "start_time": "2020-12-21T05:45:53.515077Z"
    }
   },
   "outputs": [
    {
     "data": {
      "text/plain": [
       "11"
      ]
     },
     "execution_count": 9,
     "metadata": {},
     "output_type": "execute_result"
    }
   ],
   "source": [
    "np.argmax(y) # 최대값 해당 인덱스 \n",
    "# argmin - 최소값"
   ]
  },
  {
   "cell_type": "code",
   "execution_count": 12,
   "metadata": {
    "ExecuteTime": {
     "end_time": "2020-12-21T05:49:13.846536Z",
     "start_time": "2020-12-21T05:49:13.833535Z"
    }
   },
   "outputs": [
    {
     "name": "stdout",
     "output_type": "stream",
     "text": [
      "0.06886503032079361\n",
      "0.7124563079535358\n",
      "0.2624214745800991\n"
     ]
    }
   ],
   "source": [
    "print(np.var(y)) # 분산\n",
    "print(np.median(y))# 중앙값\n",
    "print(np.std(y)) # 표준편차"
   ]
  },
  {
   "cell_type": "markdown",
   "metadata": {},
   "source": [
    "#### 집계함수\n",
    " - 합계(sum), 누적합계(cumsum) 등등 계산 가능"
   ]
  },
  {
   "cell_type": "code",
   "execution_count": 13,
   "metadata": {
    "ExecuteTime": {
     "end_time": "2020-12-21T05:50:30.084896Z",
     "start_time": "2020-12-21T05:50:30.080896Z"
    }
   },
   "outputs": [
    {
     "data": {
      "text/plain": [
       "10.508460883731487"
      ]
     },
     "execution_count": 13,
     "metadata": {},
     "output_type": "execute_result"
    }
   ],
   "source": [
    "np.sum(y)"
   ]
  },
  {
   "cell_type": "code",
   "execution_count": 14,
   "metadata": {
    "ExecuteTime": {
     "end_time": "2020-12-21T05:50:38.295366Z",
     "start_time": "2020-12-21T05:50:38.290366Z"
    }
   },
   "outputs": [
    {
     "data": {
      "text/plain": [
       "array([ 0.95467817,  1.00628007,  1.53907686,  2.24940084,  2.47416931,\n",
       "        3.44806611,  4.11270858,  4.82516488,  5.64354114,  6.24049904,\n",
       "        7.14156806,  8.1227688 ,  9.06010983,  9.87297858, 10.50846088])"
      ]
     },
     "execution_count": 14,
     "metadata": {},
     "output_type": "execute_result"
    }
   ],
   "source": [
    "np.cumsum(y) # 누적 합"
   ]
  },
  {
   "cell_type": "code",
   "execution_count": 21,
   "metadata": {
    "ExecuteTime": {
     "end_time": "2020-12-21T05:52:57.311317Z",
     "start_time": "2020-12-21T05:52:57.301316Z"
    }
   },
   "outputs": [
    {
     "name": "stdout",
     "output_type": "stream",
     "text": [
      "[2.82964399 1.6974451  2.18259413 2.341569   1.45720866]\n",
      "-----------------\n",
      "10.508460883731487\n"
     ]
    }
   ],
   "source": [
    "print(np.sum(y, axis = 0)) #sum(y)\n",
    "print('-----------------')\n",
    "print(np.sum(y, axis = None))"
   ]
  },
  {
   "cell_type": "markdown",
   "metadata": {},
   "source": [
    "#### any, all 함수\n",
    " - any: 특정 조건을 만족하는 것이 하나라도 있으면 True, 아니면 False\n",
    " - all: 모든 원소가 특정 조건을 만족한다면 True, 아니면 False"
   ]
  },
  {
   "cell_type": "code",
   "execution_count": 22,
   "metadata": {
    "ExecuteTime": {
     "end_time": "2020-12-21T05:53:20.468642Z",
     "start_time": "2020-12-21T05:53:20.465641Z"
    }
   },
   "outputs": [
    {
     "name": "stdout",
     "output_type": "stream",
     "text": [
      "[ 1.55590207 -1.41944237 -1.81558694  1.05300991 -1.17533382 -2.028565\n",
      "  0.75680492  1.05488487  2.1063222  -1.64104737]\n"
     ]
    }
   ],
   "source": [
    "z = np.random.randn(10)\n",
    "print(z)"
   ]
  },
  {
   "cell_type": "code",
   "execution_count": 23,
   "metadata": {
    "ExecuteTime": {
     "end_time": "2020-12-21T05:53:31.186255Z",
     "start_time": "2020-12-21T05:53:31.178254Z"
    }
   },
   "outputs": [
    {
     "data": {
      "text/plain": [
       "array([ True, False, False,  True, False, False,  True,  True,  True,\n",
       "       False])"
      ]
     },
     "execution_count": 23,
     "metadata": {},
     "output_type": "execute_result"
    }
   ],
   "source": [
    "z>0"
   ]
  },
  {
   "cell_type": "code",
   "execution_count": 24,
   "metadata": {
    "ExecuteTime": {
     "end_time": "2020-12-21T05:53:42.309891Z",
     "start_time": "2020-12-21T05:53:42.305891Z"
    }
   },
   "outputs": [
    {
     "data": {
      "text/plain": [
       "True"
      ]
     },
     "execution_count": 24,
     "metadata": {},
     "output_type": "execute_result"
    }
   ],
   "source": [
    "np.any(z>0) # 1개라도 참이면 T"
   ]
  },
  {
   "cell_type": "code",
   "execution_count": 26,
   "metadata": {
    "ExecuteTime": {
     "end_time": "2020-12-21T05:55:06.683717Z",
     "start_time": "2020-12-21T05:55:06.676716Z"
    }
   },
   "outputs": [
    {
     "name": "stdout",
     "output_type": "stream",
     "text": [
      "False\n",
      "True\n"
     ]
    }
   ],
   "source": [
    "print(np.all(z>0)) # 모두 참이면 T\n",
    "print(np.all(z!=0))"
   ]
  },
  {
   "cell_type": "markdown",
   "metadata": {},
   "source": [
    "#### where 함수\n",
    " - 조건에 따라 선별적으로 값을 선택 가능\n",
    " - 사용 예) 음수인경우는 0, 나머지는 그대로 값을 쓰는 경우"
   ]
  },
  {
   "cell_type": "code",
   "execution_count": 27,
   "metadata": {
    "ExecuteTime": {
     "end_time": "2020-12-21T05:55:33.190233Z",
     "start_time": "2020-12-21T05:55:33.186233Z"
    }
   },
   "outputs": [
    {
     "name": "stdout",
     "output_type": "stream",
     "text": [
      "[ 0.95236326 -0.04380834 -2.04482727 -0.5798261   1.52217859  0.25381043\n",
      "  0.23586642 -0.32422918  0.57656111 -0.45710811]\n"
     ]
    }
   ],
   "source": [
    "z = np.random.randn(10)\n",
    "print(z)"
   ]
  },
  {
   "cell_type": "code",
   "execution_count": 28,
   "metadata": {
    "ExecuteTime": {
     "end_time": "2020-12-21T05:55:56.310555Z",
     "start_time": "2020-12-21T05:55:56.306555Z"
    }
   },
   "outputs": [
    {
     "data": {
      "text/plain": [
       "array([0.95236326, 0.        , 0.        , 0.        , 1.52217859,\n",
       "       0.25381043, 0.23586642, 0.        , 0.57656111, 0.        ])"
      ]
     },
     "execution_count": 28,
     "metadata": {},
     "output_type": "execute_result"
    }
   ],
   "source": [
    "np.where(z>0, z, 0) # 조건, 참, 거짓"
   ]
  }
 ],
 "metadata": {
  "kernelspec": {
   "display_name": "Python 3",
   "language": "python",
   "name": "python3"
  },
  "language_info": {
   "codemirror_mode": {
    "name": "ipython",
    "version": 3
   },
   "file_extension": ".py",
   "mimetype": "text/x-python",
   "name": "python",
   "nbconvert_exporter": "python",
   "pygments_lexer": "ipython3",
   "version": "3.7.7"
  },
  "toc": {
   "base_numbering": 1,
   "nav_menu": {},
   "number_sections": true,
   "sideBar": true,
   "skip_h1_title": false,
   "title_cell": "Table of Contents",
   "title_sidebar": "Contents",
   "toc_cell": false,
   "toc_position": {},
   "toc_section_display": true,
   "toc_window_display": false
  }
 },
 "nbformat": 4,
 "nbformat_minor": 1
}
