{
 "cells": [
  {
   "cell_type": "markdown",
   "metadata": {},
   "source": [
    "#### 연습문제\n",
    " 1. 로또 번호 자동 생성기(함수로)를 만드시오"
   ]
  },
  {
   "cell_type": "code",
   "execution_count": 1,
   "metadata": {
    "ExecuteTime": {
     "end_time": "2020-12-29T06:09:22.297572Z",
     "start_time": "2020-12-29T06:09:22.172565Z"
    }
   },
   "outputs": [],
   "source": [
    "import numpy as np"
   ]
  },
  {
   "cell_type": "code",
   "execution_count": 3,
   "metadata": {
    "ExecuteTime": {
     "end_time": "2020-12-29T06:09:56.144508Z",
     "start_time": "2020-12-29T06:09:56.139508Z"
    }
   },
   "outputs": [
    {
     "data": {
      "text/plain": [
       "array([ 9, 14, 37, 44, 45,  3])"
      ]
     },
     "execution_count": 3,
     "metadata": {},
     "output_type": "execute_result"
    }
   ],
   "source": [
    "def lotto_nums():\n",
    "    return np.random.choice(np.arange(1, 46), size=6, replace=False) \n",
    "    # replace=False 중복불가\n",
    "lotto_nums()"
   ]
  },
  {
   "cell_type": "markdown",
   "metadata": {},
   "source": [
    " 2. numpy를 이용하여 pi(원주율) 값을 계산하시오\n",
    "  - 몬테 카를로 방법 이용하기\n",
    "  - ![파이 값 구하기](http://mathfaculty.fullerton.edu/mathews/n2003/montecarlopi/MonteCarloPiMod/Images/MonteCarloPiMod_gr_25.gif)\n",
    "  - 이미지 출처: http://mathfaculty.fullerton.edu/mathews/n2003/montecarlopi/MonteCarloPiMod/Images/MonteCarloPiMod_gr_25.gif "
   ]
  },
  {
   "cell_type": "markdown",
   "metadata": {},
   "source": [
    "pi/4 : 1 = (4분원 안에 생성된 점 개수) : 전체  시도 횟수"
   ]
  },
  {
   "cell_type": "markdown",
   "metadata": {},
   "source": [
    "pi = 4 * (4분원 안에 생성된 점 개수) / 1e7 (전체 시도 횟수)"
   ]
  },
  {
   "cell_type": "code",
   "execution_count": 4,
   "metadata": {
    "ExecuteTime": {
     "end_time": "2020-12-29T06:29:32.812810Z",
     "start_time": "2020-12-29T06:29:32.380785Z"
    }
   },
   "outputs": [
    {
     "data": {
      "text/plain": [
       "3.1412616"
      ]
     },
     "execution_count": 4,
     "metadata": {},
     "output_type": "execute_result"
    }
   ],
   "source": [
    "total = int(1e7)\n",
    "points = np.random.rand(total, 2)\n",
    "4 * np.sum(np.sum(points ** 2, axis=1) < 1) / total"
   ]
  }
 ],
 "metadata": {
  "kernelspec": {
   "display_name": "Python 3",
   "language": "python",
   "name": "python3"
  },
  "language_info": {
   "codemirror_mode": {
    "name": "ipython",
    "version": 3
   },
   "file_extension": ".py",
   "mimetype": "text/x-python",
   "name": "python",
   "nbconvert_exporter": "python",
   "pygments_lexer": "ipython3",
   "version": "3.7.7"
  },
  "toc": {
   "base_numbering": 1,
   "nav_menu": {},
   "number_sections": true,
   "sideBar": true,
   "skip_h1_title": false,
   "title_cell": "Table of Contents",
   "title_sidebar": "Contents",
   "toc_cell": false,
   "toc_position": {},
   "toc_section_display": true,
   "toc_window_display": false
  }
 },
 "nbformat": 4,
 "nbformat_minor": 1
}
