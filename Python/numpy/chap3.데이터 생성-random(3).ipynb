{
 "cells": [
  {
   "cell_type": "code",
   "execution_count": 1,
   "metadata": {
    "ExecuteTime": {
     "end_time": "2020-12-09T04:22:24.120553Z",
     "start_time": "2020-12-09T04:22:23.744531Z"
    }
   },
   "outputs": [],
   "source": [
    "import numpy as np"
   ]
  },
  {
   "cell_type": "markdown",
   "metadata": {},
   "source": [
    "#### random 서브모듈"
   ]
  },
  {
   "cell_type": "markdown",
   "metadata": {},
   "source": [
    "#### rand 함수\n",
    " - 0, 1사이의 분포로 랜덤한 ndarray 생성"
   ]
  },
  {
   "cell_type": "code",
   "execution_count": 3,
   "metadata": {
    "ExecuteTime": {
     "end_time": "2020-12-09T04:23:22.719904Z",
     "start_time": "2020-12-09T04:23:22.714904Z"
    }
   },
   "outputs": [
    {
     "data": {
      "text/plain": [
       "array([[0.24232412, 0.33218989, 0.12355941],\n",
       "       [0.93591508, 0.59145207, 0.64355164]])"
      ]
     },
     "execution_count": 3,
     "metadata": {},
     "output_type": "execute_result"
    }
   ],
   "source": [
    "np.random.rand(2,3) # 0~1 사이 랜덤값"
   ]
  },
  {
   "cell_type": "code",
   "execution_count": 4,
   "metadata": {
    "ExecuteTime": {
     "end_time": "2020-12-09T04:23:39.887886Z",
     "start_time": "2020-12-09T04:23:39.882886Z"
    }
   },
   "outputs": [
    {
     "data": {
      "text/plain": [
       "array([[[2.93382340e-01, 5.54474289e-02, 1.36573687e-01, 2.70008070e-01],\n",
       "        [2.93710542e-01, 5.95583110e-01, 9.75914223e-01, 2.26874516e-02],\n",
       "        [8.07185754e-01, 3.14777051e-01, 5.23172411e-01, 5.60855173e-01]],\n",
       "\n",
       "       [[3.72416689e-04, 4.49870886e-01, 9.25052024e-02, 8.58663617e-02],\n",
       "        [4.62435447e-01, 3.58110993e-01, 4.95737681e-01, 4.99010514e-01],\n",
       "        [9.45257820e-01, 2.41200765e-01, 9.66413518e-01, 7.48502388e-01]]])"
      ]
     },
     "execution_count": 4,
     "metadata": {},
     "output_type": "execute_result"
    }
   ],
   "source": [
    "np.random.rand(2,3,4)"
   ]
  },
  {
   "cell_type": "markdown",
   "metadata": {},
   "source": [
    "#### randn함수\n",
    " - n: normal distribution(정규분포)\n",
    " - 정규분포로 샘플링된 랜덤 ndarray 생성"
   ]
  },
  {
   "cell_type": "code",
   "execution_count": 5,
   "metadata": {
    "ExecuteTime": {
     "end_time": "2020-12-09T04:24:06.572412Z",
     "start_time": "2020-12-09T04:24:06.564412Z"
    }
   },
   "outputs": [
    {
     "data": {
      "text/plain": [
       "array([[-1.05794032,  0.11639501,  0.68506824, -0.19329598],\n",
       "       [-1.00828949,  1.06620848, -1.63066374, -0.93783553],\n",
       "       [-0.22967264,  0.09446942,  0.59237589, -1.56378302]])"
      ]
     },
     "execution_count": 5,
     "metadata": {},
     "output_type": "execute_result"
    }
   ],
   "source": [
    "np.random.randn(3,4)"
   ]
  },
  {
   "cell_type": "code",
   "execution_count": 6,
   "metadata": {
    "ExecuteTime": {
     "end_time": "2020-12-09T04:24:25.855515Z",
     "start_time": "2020-12-09T04:24:25.841515Z"
    }
   },
   "outputs": [
    {
     "data": {
      "text/plain": [
       "array([[[-0.30725081, -1.23704442],\n",
       "        [-2.17135941, -0.90026569],\n",
       "        [ 0.5416354 , -1.33084812],\n",
       "        [ 1.49111668, -1.89751868]],\n",
       "\n",
       "       [[ 0.00923403, -0.91900406],\n",
       "        [-0.10689813, -1.47825126],\n",
       "        [-0.41794267, -0.67814633],\n",
       "        [-1.0433914 ,  0.81630372]],\n",
       "\n",
       "       [[-1.62908801, -0.22025976],\n",
       "        [ 0.36813477,  0.08356658],\n",
       "        [ 0.98469395,  1.40307118],\n",
       "        [-0.42422155, -0.38591593]]])"
      ]
     },
     "execution_count": 6,
     "metadata": {},
     "output_type": "execute_result"
    }
   ],
   "source": [
    "np.random.randn(3,4,2)"
   ]
  },
  {
   "cell_type": "markdown",
   "metadata": {},
   "source": [
    "#### randint 함수\n",
    " - 특정 정수 사이에서 랜덤하게 샘플링"
   ]
  },
  {
   "cell_type": "code",
   "execution_count": 8,
   "metadata": {
    "ExecuteTime": {
     "end_time": "2020-12-09T04:25:34.415437Z",
     "start_time": "2020-12-09T04:25:34.410437Z"
    }
   },
   "outputs": [
    {
     "data": {
      "text/plain": [
       "array([[ 9, 86, 56,  9, 75],\n",
       "       [50, 24, 14, 34,  3],\n",
       "       [33, 61, 41, 50, 81]])"
      ]
     },
     "execution_count": 8,
     "metadata": {},
     "output_type": "execute_result"
    }
   ],
   "source": [
    "np.random.randint(1,100,size =(3,5))"
   ]
  },
  {
   "cell_type": "code",
   "execution_count": 9,
   "metadata": {
    "ExecuteTime": {
     "end_time": "2020-12-09T04:26:00.216913Z",
     "start_time": "2020-12-09T04:26:00.205912Z"
    }
   },
   "outputs": [
    {
     "data": {
      "text/plain": [
       "array([22, 61, 75, 11, 60])"
      ]
     },
     "execution_count": 9,
     "metadata": {},
     "output_type": "execute_result"
    }
   ],
   "source": [
    "np.random.randint(1,100,size =(5,))"
   ]
  },
  {
   "cell_type": "markdown",
   "metadata": {},
   "source": [
    "#### seed 함수\n",
    " - 랜덤한 값을 동일하게 다시 생성하고자 할때 사용"
   ]
  },
  {
   "cell_type": "code",
   "execution_count": 12,
   "metadata": {
    "ExecuteTime": {
     "end_time": "2020-12-09T04:38:11.407734Z",
     "start_time": "2020-12-09T04:38:11.402734Z"
    }
   },
   "outputs": [
    {
     "data": {
      "text/plain": [
       "array([[-1.74976547,  0.3426804 ,  1.1530358 , -0.25243604],\n",
       "       [ 0.98132079,  0.51421884,  0.22117967, -1.07004333],\n",
       "       [-0.18949583,  0.25500144, -0.45802699,  0.43516349]])"
      ]
     },
     "execution_count": 12,
     "metadata": {},
     "output_type": "execute_result"
    }
   ],
   "source": [
    "np.random.seed(100)\n",
    "np.random.randn(3,4)"
   ]
  },
  {
   "cell_type": "markdown",
   "metadata": {},
   "source": [
    "#### choice\n",
    " - 주어진 1차원 ndarray로 부터 랜덤으로 샘플링\n",
    " - 정수가 주어진 경우, np.arange(해당숫자)로 간주"
   ]
  },
  {
   "cell_type": "code",
   "execution_count": 14,
   "metadata": {
    "ExecuteTime": {
     "end_time": "2020-12-09T04:39:50.350394Z",
     "start_time": "2020-12-09T04:39:50.346393Z"
    }
   },
   "outputs": [
    {
     "data": {
      "text/plain": [
       "array([[71, 80,  2, 94],\n",
       "       [19, 98, 63, 53],\n",
       "       [27, 56, 30, 48]])"
      ]
     },
     "execution_count": 14,
     "metadata": {},
     "output_type": "execute_result"
    }
   ],
   "source": [
    "np.random.choice(100, size = (3, 4))"
   ]
  },
  {
   "cell_type": "code",
   "execution_count": 17,
   "metadata": {
    "ExecuteTime": {
     "end_time": "2020-12-09T04:41:14.081183Z",
     "start_time": "2020-12-09T04:41:14.075182Z"
    }
   },
   "outputs": [
    {
     "data": {
      "text/plain": [
       "array([[1. , 3. ],\n",
       "       [4.7, 3. ]])"
      ]
     },
     "execution_count": 17,
     "metadata": {},
     "output_type": "execute_result"
    }
   ],
   "source": [
    "x = np.array([1,2,3,1.5,2.6,4.7])\n",
    "np.random.choice(x,size=(2,2)) # 중복 허용"
   ]
  },
  {
   "cell_type": "code",
   "execution_count": 18,
   "metadata": {
    "ExecuteTime": {
     "end_time": "2020-12-09T04:42:02.386946Z",
     "start_time": "2020-12-09T04:42:02.370945Z"
    }
   },
   "outputs": [
    {
     "data": {
      "text/plain": [
       "array([[1.5, 2.6],\n",
       "       [3. , 4.7]])"
      ]
     },
     "execution_count": 18,
     "metadata": {},
     "output_type": "execute_result"
    }
   ],
   "source": [
    "x = np.array([1,2,3,1.5,2.6,4.7])\n",
    "np.random.choice(x,size=(2,2), replace = False) # 중복 불가"
   ]
  },
  {
   "cell_type": "markdown",
   "metadata": {},
   "source": [
    "#### 확률분포에 따른 ndarray 생성\n",
    " - uniform\n",
    " - normal 등등"
   ]
  },
  {
   "cell_type": "code",
   "execution_count": 19,
   "metadata": {
    "ExecuteTime": {
     "end_time": "2020-12-09T04:42:58.031128Z",
     "start_time": "2020-12-09T04:42:58.027128Z"
    }
   },
   "outputs": [
    {
     "data": {
      "text/plain": [
       "array([[1.35164262, 1.23660567, 2.72589134, 1.14973376, 2.65018972],\n",
       "       [2.67226363, 1.15078982, 1.02280158, 1.09684114, 1.71424542],\n",
       "       [2.33138675, 1.02277922, 1.21583553, 2.8020262 , 2.58975752],\n",
       "       [2.62292196, 2.28055611, 2.24955902, 1.29101502, 2.1404318 ]])"
      ]
     },
     "execution_count": 19,
     "metadata": {},
     "output_type": "execute_result"
    }
   ],
   "source": [
    "np.random.uniform(1.0, 3.0, size = (4,5))"
   ]
  },
  {
   "cell_type": "code",
   "execution_count": 20,
   "metadata": {
    "ExecuteTime": {
     "end_time": "2020-12-09T04:43:13.638021Z",
     "start_time": "2020-12-09T04:43:13.630020Z"
    }
   },
   "outputs": [
    {
     "data": {
      "text/plain": [
       "array([[-0.18499993, -0.43118745,  0.14253625, -1.49639345],\n",
       "       [ 0.30687456, -0.04634723,  0.41714428, -0.60377052],\n",
       "       [ 0.68596725,  0.85997379,  0.19155544,  1.17822793]])"
      ]
     },
     "execution_count": 20,
     "metadata": {},
     "output_type": "execute_result"
    }
   ],
   "source": [
    "np.random.normal(size = (3,4))\n",
    "#np.random.randn(3,4)"
   ]
  }
 ],
 "metadata": {
  "kernelspec": {
   "display_name": "Python 3",
   "language": "python",
   "name": "python3"
  },
  "language_info": {
   "codemirror_mode": {
    "name": "ipython",
    "version": 3
   },
   "file_extension": ".py",
   "mimetype": "text/x-python",
   "name": "python",
   "nbconvert_exporter": "python",
   "pygments_lexer": "ipython3",
   "version": "3.7.7"
  },
  "toc": {
   "base_numbering": 1,
   "nav_menu": {},
   "number_sections": true,
   "sideBar": true,
   "skip_h1_title": false,
   "title_cell": "Table of Contents",
   "title_sidebar": "Contents",
   "toc_cell": false,
   "toc_position": {},
   "toc_section_display": true,
   "toc_window_display": false
  }
 },
 "nbformat": 4,
 "nbformat_minor": 2
}
